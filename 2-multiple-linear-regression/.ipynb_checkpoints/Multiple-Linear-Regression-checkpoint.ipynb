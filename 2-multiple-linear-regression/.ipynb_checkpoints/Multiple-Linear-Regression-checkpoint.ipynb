{
 "cells": [
  {
   "cell_type": "markdown",
   "metadata": {},
   "source": [
    "# Multiple Linear Regression\n"
   ]
  },
  {
   "cell_type": "markdown",
   "metadata": {},
   "source": [
    "In multiple linear regression we will teach machine to predict the values of dependent variable from two or more independent variables."
   ]
  },
  {
   "cell_type": "markdown",
   "metadata": {},
   "source": [
    "### Import required packages"
   ]
  },
  {
   "cell_type": "code",
   "execution_count": 67,
   "metadata": {},
   "outputs": [],
   "source": [
    "import numpy as np\n",
    "import pandas as pd\n",
    "import matplotlib.pyplot as plt\n",
    "from sklearn.linear_model import LinearRegression\n",
    "from sklearn.model_selection import train_test_split\n",
    "from sklearn.preprocessing import LabelEncoder, OneHotEncoder"
   ]
  },
  {
   "cell_type": "markdown",
   "metadata": {},
   "source": [
    "### Import dataset"
   ]
  },
  {
   "cell_type": "code",
   "execution_count": 68,
   "metadata": {},
   "outputs": [
    {
     "data": {
      "text/html": [
       "<div>\n",
       "<style scoped>\n",
       "    .dataframe tbody tr th:only-of-type {\n",
       "        vertical-align: middle;\n",
       "    }\n",
       "\n",
       "    .dataframe tbody tr th {\n",
       "        vertical-align: top;\n",
       "    }\n",
       "\n",
       "    .dataframe thead th {\n",
       "        text-align: right;\n",
       "    }\n",
       "</style>\n",
       "<table border=\"1\" class=\"dataframe\">\n",
       "  <thead>\n",
       "    <tr style=\"text-align: right;\">\n",
       "      <th></th>\n",
       "      <th>Depatment</th>\n",
       "      <th>WorkedHours</th>\n",
       "      <th>Certification</th>\n",
       "      <th>YearsExperience</th>\n",
       "      <th>Salary</th>\n",
       "    </tr>\n",
       "  </thead>\n",
       "  <tbody>\n",
       "    <tr>\n",
       "      <th>0</th>\n",
       "      <td>Development</td>\n",
       "      <td>2300</td>\n",
       "      <td>0</td>\n",
       "      <td>1.1</td>\n",
       "      <td>39343</td>\n",
       "    </tr>\n",
       "    <tr>\n",
       "      <th>1</th>\n",
       "      <td>Testing</td>\n",
       "      <td>2100</td>\n",
       "      <td>1</td>\n",
       "      <td>1.3</td>\n",
       "      <td>46205</td>\n",
       "    </tr>\n",
       "    <tr>\n",
       "      <th>2</th>\n",
       "      <td>Development</td>\n",
       "      <td>2104</td>\n",
       "      <td>2</td>\n",
       "      <td>1.5</td>\n",
       "      <td>37731</td>\n",
       "    </tr>\n",
       "    <tr>\n",
       "      <th>3</th>\n",
       "      <td>UX Designer</td>\n",
       "      <td>1200</td>\n",
       "      <td>1</td>\n",
       "      <td>2.0</td>\n",
       "      <td>43525</td>\n",
       "    </tr>\n",
       "    <tr>\n",
       "      <th>4</th>\n",
       "      <td>Testing</td>\n",
       "      <td>1254</td>\n",
       "      <td>2</td>\n",
       "      <td>2.2</td>\n",
       "      <td>39891</td>\n",
       "    </tr>\n",
       "    <tr>\n",
       "      <th>5</th>\n",
       "      <td>UX Designer</td>\n",
       "      <td>1236</td>\n",
       "      <td>1</td>\n",
       "      <td>2.9</td>\n",
       "      <td>56642</td>\n",
       "    </tr>\n",
       "    <tr>\n",
       "      <th>6</th>\n",
       "      <td>Development</td>\n",
       "      <td>1452</td>\n",
       "      <td>2</td>\n",
       "      <td>3.0</td>\n",
       "      <td>60150</td>\n",
       "    </tr>\n",
       "    <tr>\n",
       "      <th>7</th>\n",
       "      <td>Testing</td>\n",
       "      <td>1789</td>\n",
       "      <td>1</td>\n",
       "      <td>3.2</td>\n",
       "      <td>54445</td>\n",
       "    </tr>\n",
       "    <tr>\n",
       "      <th>8</th>\n",
       "      <td>UX Designer</td>\n",
       "      <td>1645</td>\n",
       "      <td>1</td>\n",
       "      <td>3.2</td>\n",
       "      <td>64445</td>\n",
       "    </tr>\n",
       "    <tr>\n",
       "      <th>9</th>\n",
       "      <td>UX Designer</td>\n",
       "      <td>1258</td>\n",
       "      <td>0</td>\n",
       "      <td>3.7</td>\n",
       "      <td>57189</td>\n",
       "    </tr>\n",
       "  </tbody>\n",
       "</table>\n",
       "</div>"
      ],
      "text/plain": [
       "     Depatment  WorkedHours  Certification  YearsExperience  Salary\n",
       "0  Development         2300              0              1.1   39343\n",
       "1      Testing         2100              1              1.3   46205\n",
       "2  Development         2104              2              1.5   37731\n",
       "3  UX Designer         1200              1              2.0   43525\n",
       "4      Testing         1254              2              2.2   39891\n",
       "5  UX Designer         1236              1              2.9   56642\n",
       "6  Development         1452              2              3.0   60150\n",
       "7      Testing         1789              1              3.2   54445\n",
       "8  UX Designer         1645              1              3.2   64445\n",
       "9  UX Designer         1258              0              3.7   57189"
      ]
     },
     "execution_count": 68,
     "metadata": {},
     "output_type": "execute_result"
    }
   ],
   "source": [
    "dataset = pd.read_csv('salaryData.csv')\n",
    "dataset.head(10)"
   ]
  },
  {
   "cell_type": "code",
   "execution_count": 214,
   "metadata": {},
   "outputs": [
    {
     "data": {
      "text/plain": [
       "array(['Development', 'Testing', 'Development', 'UX Designer', 'Testing',\n",
       "       'UX Designer', 'Development', 'Testing', 'UX Designer',\n",
       "       'UX Designer', 'Testing', 'Development', 'Development', 'Testing',\n",
       "       'UX Designer', 'Development', 'Testing', 'UX Designer',\n",
       "       'Development', 'Development', 'Testing', 'Testing', 'UX Designer',\n",
       "       'Development', 'UX Designer', 'UX Designer', 'Testing',\n",
       "       'Development', 'Testing', 'UX Designer'], dtype=object)"
      ]
     },
     "execution_count": 214,
     "metadata": {},
     "output_type": "execute_result"
    }
   ],
   "source": [
    "# select all column except last one salary - X - independent variable such as dept, workhours, cretication, yearsexp\n",
    "X = dataset.iloc[:, :-1].values \n",
    "#y independet variable - salary - target variable selected here\n",
    "y = dataset.iloc[:, 4].values\n",
    "X[:, 0]"
   ]
  },
  {
   "cell_type": "markdown",
   "metadata": {},
   "source": [
    "### Data preprocessing"
   ]
  },
  {
   "cell_type": "markdown",
   "metadata": {},
   "source": [
    "The process of converiting data from initial raw format into another format for futher analysis,\n",
    "\n",
    "Already we know about data preprocessing, for more details refer Data analysis with python ==> data-wrangling subfolder. now we going to use labelencoder and onhotencoder for data preprocessing."
   ]
  },
  {
   "cell_type": "markdown",
   "metadata": {},
   "source": [
    "#### Below link is example for Labelencoder and onehotencoder"
   ]
  },
  {
   "cell_type": "markdown",
   "metadata": {},
   "source": [
    "https://machinelearningmastery.com/how-to-one-hot-encode-sequence-data-in-python/"
   ]
  },
  {
   "cell_type": "markdown",
   "metadata": {},
   "source": [
    "### Data preprocessing for our model"
   ]
  },
  {
   "cell_type": "code",
   "execution_count": 215,
   "metadata": {},
   "outputs": [
    {
     "name": "stderr",
     "output_type": "stream",
     "text": [
      "/home/krds-deepak/anaconda3/lib/python3.7/site-packages/sklearn/preprocessing/_encoders.py:368: FutureWarning: The handling of integer data will change in version 0.22. Currently, the categories are determined based on the range [0, max(values)], while in the future they will be determined based on the unique values.\n",
      "If you want the future behaviour and silence this warning, you can specify \"categories='auto'\".\n",
      "In case you used a LabelEncoder before this OneHotEncoder to convert the categories to integers, then you can now use the OneHotEncoder directly.\n",
      "  warnings.warn(msg, FutureWarning)\n",
      "/home/krds-deepak/anaconda3/lib/python3.7/site-packages/sklearn/preprocessing/_encoders.py:390: DeprecationWarning: The 'categorical_features' keyword is deprecated in version 0.20 and will be removed in 0.22. You can use the ColumnTransformer instead.\n",
      "  \"use the ColumnTransformer instead.\", DeprecationWarning)\n"
     ]
    },
    {
     "data": {
      "text/plain": [
       "array([[0.000e+00, 0.000e+00, 2.300e+03, 0.000e+00, 1.100e+00],\n",
       "       [1.000e+00, 0.000e+00, 2.100e+03, 1.000e+00, 1.300e+00],\n",
       "       [0.000e+00, 0.000e+00, 2.104e+03, 2.000e+00, 1.500e+00],\n",
       "       [0.000e+00, 1.000e+00, 1.200e+03, 1.000e+00, 2.000e+00],\n",
       "       [1.000e+00, 0.000e+00, 1.254e+03, 2.000e+00, 2.200e+00],\n",
       "       [0.000e+00, 1.000e+00, 1.236e+03, 1.000e+00, 2.900e+00],\n",
       "       [0.000e+00, 0.000e+00, 1.452e+03, 2.000e+00, 3.000e+00],\n",
       "       [1.000e+00, 0.000e+00, 1.789e+03, 1.000e+00, 3.200e+00],\n",
       "       [0.000e+00, 1.000e+00, 1.645e+03, 1.000e+00, 3.200e+00],\n",
       "       [0.000e+00, 1.000e+00, 1.258e+03, 0.000e+00, 3.700e+00],\n",
       "       [1.000e+00, 0.000e+00, 1.478e+03, 3.000e+00, 3.900e+00],\n",
       "       [0.000e+00, 0.000e+00, 1.257e+03, 2.000e+00, 4.000e+00],\n",
       "       [0.000e+00, 0.000e+00, 1.596e+03, 1.000e+00, 4.000e+00],\n",
       "       [1.000e+00, 0.000e+00, 1.256e+03, 2.000e+00, 4.100e+00],\n",
       "       [0.000e+00, 1.000e+00, 1.489e+03, 3.000e+00, 4.500e+00],\n",
       "       [0.000e+00, 0.000e+00, 1.236e+03, 3.000e+00, 4.900e+00],\n",
       "       [1.000e+00, 0.000e+00, 2.311e+03, 2.000e+00, 5.100e+00],\n",
       "       [0.000e+00, 1.000e+00, 2.245e+03, 3.000e+00, 5.300e+00],\n",
       "       [0.000e+00, 0.000e+00, 2.365e+03, 1.000e+00, 5.900e+00],\n",
       "       [0.000e+00, 0.000e+00, 1.500e+03, 3.000e+00, 6.000e+00],\n",
       "       [1.000e+00, 0.000e+00, 1.456e+03, 2.000e+00, 6.800e+00],\n",
       "       [1.000e+00, 0.000e+00, 1.760e+03, 1.000e+00, 7.100e+00],\n",
       "       [0.000e+00, 1.000e+00, 2.400e+03, 4.000e+00, 7.900e+00],\n",
       "       [0.000e+00, 0.000e+00, 2.148e+03, 3.000e+00, 8.200e+00],\n",
       "       [0.000e+00, 1.000e+00, 1.450e+03, 2.000e+00, 8.700e+00],\n",
       "       [0.000e+00, 1.000e+00, 1.000e+03, 4.000e+00, 9.000e+00],\n",
       "       [1.000e+00, 0.000e+00, 1.540e+03, 3.000e+00, 9.500e+00],\n",
       "       [0.000e+00, 0.000e+00, 1.500e+03, 2.000e+00, 9.600e+00],\n",
       "       [1.000e+00, 0.000e+00, 3.000e+03, 4.000e+00, 1.030e+01],\n",
       "       [0.000e+00, 1.000e+00, 2.100e+03, 3.000e+00, 1.050e+01]])"
      ]
     },
     "execution_count": 215,
     "metadata": {},
     "output_type": "execute_result"
    }
   ],
   "source": [
    "# Encoding categorical data\n",
    "labelencoder = LabelEncoder()\n",
    "X[:, 0] = labelencoder.fit_transform(X[:, 0])\n",
    "onehotencoder = OneHotEncoder(categorical_features = [0]) #categories[i] holds the categories expected in the ith column.\n",
    "X = onehotencoder.fit_transform(X).toarray()\n",
    "# Avoiding the Dummy Variable Trap\n",
    "X = X[:, 1:]\n",
    "X"
   ]
  },
  {
   "cell_type": "markdown",
   "metadata": {},
   "source": [
    "#### Splitting the dataset into the Training set and Test set"
   ]
  },
  {
   "cell_type": "code",
   "execution_count": 132,
   "metadata": {},
   "outputs": [],
   "source": [
    "X_train, X_test, y_train, y_test = train_test_split(X, y, test_size = 1/3, random_state = 0)"
   ]
  },
  {
   "cell_type": "markdown",
   "metadata": {},
   "source": [
    "#### Fitting Multiple Linear Regression to the Training set"
   ]
  },
  {
   "cell_type": "code",
   "execution_count": 166,
   "metadata": {},
   "outputs": [
    {
     "data": {
      "text/plain": [
       "LinearRegression(copy_X=True, fit_intercept=True, n_jobs=None,\n",
       "         normalize=False)"
      ]
     },
     "execution_count": 166,
     "metadata": {},
     "output_type": "execute_result"
    }
   ],
   "source": [
    "regressor = LinearRegression()\n",
    "regressor.fit(X_train, y_train)"
   ]
  },
  {
   "cell_type": "markdown",
   "metadata": {},
   "source": [
    "#### Predicting the Test set results"
   ]
  },
  {
   "cell_type": "code",
   "execution_count": 156,
   "metadata": {},
   "outputs": [
    {
     "data": {
      "text/plain": [
       "array([ 42964.11902737, 123643.56179465,  63125.10291096,  60848.83188279,\n",
       "       114352.88900925, 107050.56131194, 119216.00885373,  65415.04017263,\n",
       "        75198.60674123,  99513.60553401])"
      ]
     },
     "execution_count": 156,
     "metadata": {},
     "output_type": "execute_result"
    }
   ],
   "source": [
    "y_pred = regressor.predict(X_test)\n",
    "y_pred"
   ]
  },
  {
   "cell_type": "markdown",
   "metadata": {},
   "source": [
    "### Testing our model  by passing own data input"
   ]
  },
  {
   "cell_type": "code",
   "execution_count": 224,
   "metadata": {},
   "outputs": [
    {
     "name": "stdout",
     "output_type": "stream",
     "text": [
      "-----RESULT------\n",
      "Department, workedhours, cretification and years of experience ['Development', 1452, 2, 4.0] ==> 65734.91726187432\n",
      "Department, workedhours, cretification and years of experience ['Testing', 1452, 3, 4.0] ==> 61759.79504379228\n",
      "Department, workedhours, cretification and years of experience ['UX Designer', 2100, 1, 1.3] ==> 38282.63565990284\n",
      "-----RESULT END------\n"
     ]
    },
    {
     "name": "stderr",
     "output_type": "stream",
     "text": [
      "/home/krds-deepak/anaconda3/lib/python3.7/site-packages/sklearn/preprocessing/_encoders.py:368: FutureWarning: The handling of integer data will change in version 0.22. Currently, the categories are determined based on the range [0, max(values)], while in the future they will be determined based on the unique values.\n",
      "If you want the future behaviour and silence this warning, you can specify \"categories='auto'\".\n",
      "In case you used a LabelEncoder before this OneHotEncoder to convert the categories to integers, then you can now use the OneHotEncoder directly.\n",
      "  warnings.warn(msg, FutureWarning)\n",
      "/home/krds-deepak/anaconda3/lib/python3.7/site-packages/sklearn/preprocessing/_encoders.py:390: DeprecationWarning: The 'categorical_features' keyword is deprecated in version 0.20 and will be removed in 0.22. You can use the ColumnTransformer instead.\n",
      "  \"use the ColumnTransformer instead.\", DeprecationWarning)\n"
     ]
    }
   ],
   "source": [
    "# passing independent variables as supported format\n",
    "x_own_test_data = np.array([[\"Development\", 1452, 2, 4.0], [\"Testing\", 1452, 3, 4.0], ['UX Designer', 2100, 1, 1.3]], dtype=object)\n",
    "\n",
    "# data preprocessing \n",
    "# Encoding categorical data\n",
    "#labelencoder\n",
    "labelencoder_own_test_data = LabelEncoder()\n",
    "x_own_test_data[:, 0] = labelencoder_own_test_data.fit_transform(x_own_test_data[:, 0])\n",
    "\n",
    "# #onehotencoder\n",
    "onehotencoder_own_test_data = OneHotEncoder(categorical_features = [0])\n",
    "x_own_test_data = onehotencoder_own_test_data.fit_transform(x_own_test_data).toarray()\n",
    "# Avoiding the Dummy Variable Trap\n",
    "x_own_test_data = x_own_test_data[:, 1:]\n",
    "x_own_test_data\n",
    "# # x_own_test_data\n",
    "y_pred2 = regressor.predict(x_own_test_data)\n",
    "print(\"-----RESULT------\")\n",
    "print(\"Department, workedhours, cretification and years of experience\", [\"Development\", 1452, 2, 4.0], \"==>\", y_pred2[0])\n",
    "print(\"Department, workedhours, cretification and years of experience\", [\"Testing\", 1452, 3, 4.0], \"==>\", y_pred2[1])\n",
    "print(\"Department, workedhours, cretification and years of experience\", ['UX Designer', 2100, 1, 1.3], \"==>\", y_pred2[2])\n",
    "print(\"-----RESULT END------\")"
   ]
  },
  {
   "cell_type": "markdown",
   "metadata": {},
   "source": [
    "### Complete code (code praticed)"
   ]
  },
  {
   "cell_type": "code",
   "execution_count": 259,
   "metadata": {},
   "outputs": [
    {
     "name": "stderr",
     "output_type": "stream",
     "text": [
      "/home/krds-deepak/anaconda3/lib/python3.7/site-packages/sklearn/preprocessing/_encoders.py:368: FutureWarning: The handling of integer data will change in version 0.22. Currently, the categories are determined based on the range [0, max(values)], while in the future they will be determined based on the unique values.\n",
      "If you want the future behaviour and silence this warning, you can specify \"categories='auto'\".\n",
      "In case you used a LabelEncoder before this OneHotEncoder to convert the categories to integers, then you can now use the OneHotEncoder directly.\n",
      "  warnings.warn(msg, FutureWarning)\n",
      "/home/krds-deepak/anaconda3/lib/python3.7/site-packages/sklearn/preprocessing/_encoders.py:390: DeprecationWarning: The 'categorical_features' keyword is deprecated in version 0.20 and will be removed in 0.22. You can use the ColumnTransformer instead.\n",
      "  \"use the ColumnTransformer instead.\", DeprecationWarning)\n"
     ]
    },
    {
     "data": {
      "text/plain": [
       "array([ 42964.11902737, 123643.56179465,  63125.10291096,  60848.83188279,\n",
       "       114352.88900925, 107050.56131194, 119216.00885373,  65415.04017263,\n",
       "        75198.60674123,  99513.60553401])"
      ]
     },
     "execution_count": 259,
     "metadata": {},
     "output_type": "execute_result"
    }
   ],
   "source": [
    "#importing required packages\n",
    "import pandas as pd\n",
    "import numpy as np\n",
    "import matplotlib.pyplot as plt\n",
    "from sklearn.linear_model import LinearRegression\n",
    "from sklearn.model_selection import train_test_split\n",
    "from sklearn.preprocessing import LabelEncoder, OneHotEncoder\n",
    "\n",
    "#importing dataset\n",
    "df = pd.read_csv('salaryData.csv')\n",
    "# X_1 independent variable - selecting independent variables\n",
    "X_1 = df.iloc[:, :-1].values\n",
    "# y_1 dependent variable - select dependent variable\n",
    "y_1 = df.iloc[:, 4].values\n",
    "\n",
    "#Data preprocessing\n",
    "\n",
    "#labelenvoder\n",
    "label_encoder_1 = LabelEncoder()\n",
    "X_1[:,0] = label_encoder_1.fit_transform(X_1[:, 0])\n",
    "\n",
    "#Onehotencoder\n",
    "onehotencoder_1 = OneHotEncoder(categorical_features=[0])\n",
    "X_1 = onehotencoder_1.fit_transform(X_1).toarray()\n",
    "#Avoid dummy variable trap\n",
    "X_1 = X_1[:, 1:]\n",
    "\n",
    "#train test split\n",
    "X_train_1, X_test_1, y_train_1, y_test_1 = train_test_split(X_1, y_1, test_size=1/3, random_state=0)\n",
    "\n",
    "#Linear regression\n",
    "regression_1 = LinearRegression()\n",
    "#fitline\n",
    "regression_1.fit(X_train_1, y_train_1)\n",
    "\n",
    "#prediction\n",
    "ypred_1 = regression_1.predict(X_test)\n",
    "ypred_1"
   ]
  },
  {
   "cell_type": "code",
   "execution_count": null,
   "metadata": {},
   "outputs": [],
   "source": []
  },
  {
   "cell_type": "code",
   "execution_count": null,
   "metadata": {},
   "outputs": [],
   "source": []
  }
 ],
 "metadata": {
  "kernelspec": {
   "display_name": "Python 3",
   "language": "python",
   "name": "python3"
  },
  "language_info": {
   "codemirror_mode": {
    "name": "ipython",
    "version": 3
   },
   "file_extension": ".py",
   "mimetype": "text/x-python",
   "name": "python",
   "nbconvert_exporter": "python",
   "pygments_lexer": "ipython3",
   "version": "3.7.1"
  }
 },
 "nbformat": 4,
 "nbformat_minor": 2
}
